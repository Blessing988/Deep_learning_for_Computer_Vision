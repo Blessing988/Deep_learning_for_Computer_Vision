{
 "cells": [
  {
   "cell_type": "code",
   "execution_count": 1,
   "id": "c34194de",
   "metadata": {},
   "outputs": [],
   "source": [
    "# import the necessary packages \n",
    "from keras.preprocessing.image import img_to_array\n",
    "from keras.models import load_model\n",
    "import numpy as np \n",
    "import argparse \n",
    "import imutils \n",
    "import cv2"
   ]
  },
  {
   "cell_type": "code",
   "execution_count": null,
   "id": "badd2800",
   "metadata": {},
   "outputs": [],
   "source": [
    "# construct the argument parse and parse the arguments\n",
    "ap = argparse.ArgumentParser()\n",
    "ap.add_argument(\"-c\", \"--cascade\", required=True, \n",
    "                help=\"path to where the face cascade resides\")\n",
    "ap.add_argument(\"-m\", \"--model\", required=True, \n",
    "                help=\"path to pre-trained smile detector\")\n",
    "ap.add_argument(\"-v\", \"--video\", \n",
    "                help=\"path to (optional) video file\")\n",
    "\n",
    "args = vars(ap.parse_args())"
   ]
  },
  {
   "cell_type": "code",
   "execution_count": null,
   "id": "edbde150",
   "metadata": {},
   "outputs": [],
   "source": [
    "# load the face detector cascade and smile detector CNN\n",
    "detector = cv2.CascadeClassifier(args[\"cascade\"])\n",
    "model = load_model(args[\"model\"])"
   ]
  },
  {
   "cell_type": "code",
   "execution_count": null,
   "id": "007e8d7a",
   "metadata": {},
   "outputs": [],
   "source": [
    "# if a video path was not supplied, grab the reference to the webcam\n",
    "if not args.get(\"video\", False):\n",
    "    camera=cv2.VideoCapture(0)\n",
    "\n",
    "# otherwise, load the video\n",
    "else:\n",
    "    camera = cv2.VideoCapture(args[\"video\"])"
   ]
  },
  {
   "cell_type": "code",
   "execution_count": null,
   "id": "d92f02f6",
   "metadata": {},
   "outputs": [],
   "source": [
    "# keep looping \n",
    "while True:\n",
    "    # grab the current frame \n",
    "    (grabbed, frame) = camera.read()\n",
    "    \n",
    "    # if we are viewing a video and we did not grab a frame, then we\n",
    "    # original frame so we can draw on it later in the program\n",
    "    \n",
    "    if args.get(\"video\") and not grabbed:\n",
    "        break\n",
    "    # resize the frame, convert it to grayscale, and then clone the\n",
    "    # original frame so we can draw on it later in the program\n",
    "    frame = imutils.resize(frame, width=300)\n",
    "    gray = cv2.cvtColor(frame, COLOR_BGR2GRAY)\n",
    "    frameClone = frame.copy()\n",
    "    \n",
    "    # detect faces in the input frame, then clone the frame so that\n",
    "    # we can draw on it\n",
    "    rects = detector.detectMultiScale(gray, scaleFactor=1.1,\n",
    "          minNeighbors=5, minSize=(30, 30),\n",
    "          flags=cv2.CASCADE_SCALE_IMAGE)\n",
    "    \n",
    "    # loop over the face bounding boxes \n",
    "    for (fX, fY, fW, fH) in rects:\n",
    "        # extract the ROI of the face from the grayscale image,\n",
    "        # ROI for classification via the CNN\n",
    "        roi = gray[fY:fY + fH, fX:fX + fW]\n",
    "        roi = cv2.resize(roi, (28, 28))\n",
    "        roi = roi.astype(\"float\") / 255.0\n",
    "        roi = img_to_array(roi)\n",
    "        roi = np.expand_dims(roi, axis=0)\n",
    "        \n",
    "        # determine the probabilities of both \"smiling\" and \"not\n",
    "        # smiling\", then set the label accordingly\n",
    "        (notSmiling, smiling) = model.predict(roi)[0]\n",
    "        label = \"Smiling\" if smiling > notSmiling else \"Not Smiling\"\n",
    "        \n",
    "        # display the label and bounding box rectangle on the output\n",
    "        # frame\n",
    "        cv2.putText(frameClone, label, (fX, fY-10), cv2.FONT_HERSHEY_SIMPLEX, \n",
    "                   0.45, (0, 0, 255), 2)\n",
    "        cv2.rectangle(frameClone, (fX, fY), (fX+fW, fY+fH), (0, 0, 255), 2)\n",
    "        \n",
    "    # show our detected faces along with smiling/not smiling labels\n",
    "    cv2.imshow(\"Face\", frameClone)\n",
    "    # if the ’q’ key is pressed, stop the loop\n",
    "    if cv2.waitKey(1) & 0xFF == ord(\"q\"):\n",
    "        break\n",
    "        \n",
    " # cleanup the camera and close any open windows   \n",
    "camera.release()\n",
    "cv2.destroyAllWindows()"
   ]
  }
 ],
 "metadata": {
  "kernelspec": {
   "display_name": "Python 3 (ipykernel)",
   "language": "python",
   "name": "python3"
  },
  "language_info": {
   "codemirror_mode": {
    "name": "ipython",
    "version": 3
   },
   "file_extension": ".py",
   "mimetype": "text/x-python",
   "name": "python",
   "nbconvert_exporter": "python",
   "pygments_lexer": "ipython3",
   "version": "3.8.12"
  }
 },
 "nbformat": 4,
 "nbformat_minor": 5
}
